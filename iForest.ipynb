{
 "cells": [
  {
   "cell_type": "code",
   "id": "initial_id",
   "metadata": {
    "collapsed": true,
    "ExecuteTime": {
     "end_time": "2024-11-30T17:24:06.579120Z",
     "start_time": "2024-11-30T17:24:06.537347Z"
    }
   },
   "source": [
    "'''\n",
    "Nikhil Patil\n",
    "Project 5\n",
    "Anomaly Detection\n",
    "iForest Implementation\n",
    "'''\n",
    "import pandas as pd\n",
    "import random\n",
    "from sklearn.ensemble import IsolationForest\n",
    "from sklearn.preprocessing import StandardScaler\n",
    "from sklearn.metrics import accuracy_score, f1_score, confusion_matrix, classification_report"
   ],
   "outputs": [],
   "execution_count": 30
  },
  {
   "metadata": {},
   "cell_type": "code",
   "source": [
    "'''Load and Preprocess Data'''\n",
    "df = pd.read_csv('datasets/labelled_training_data.csv')\n",
    "\n",
    "df['stackAddresses_length'] = df['stackAddresses'].apply(lambda x: len(eval(x)) if pd.notnull(x) else 0)\n",
    "df['args_length'] = df['args'].apply(lambda x: len(eval(x)) if pd.notnull(x) else 0)\n",
    "\n",
    "features = [\n",
    "    'timestamp', 'processId', 'threadId', 'parentProcessId', \n",
    "    'userId', 'mountNamespace', 'returnValue', 'stackAddresses_length', 'args_length'\n",
    "]\n",
    "X = df[features]\n",
    "\n",
    "scaler = StandardScaler()\n",
    "X_scaled = scaler.fit_transform(X)\n",
    "\n",
    "iso_forest = IsolationForest(n_estimators=100, contamination='auto', random_state=random.randint(1,100))\n",
    "iso_forest.fit(X_scaled)\n",
    "\n",
    "df['anomaly_score'] = iso_forest.decision_function(X_scaled)\n",
    "df['is_anomaly'] = iso_forest.predict(X_scaled)\n",
    "\n",
    "df['is_anomaly'] = df['is_anomaly'].map({1: 0, -1: 1})\n",
    "\n",
    "print(df[['sus', 'evil', 'is_anomaly']].head())\n"
   ],
   "id": "ef23354b5665d206",
   "outputs": [],
   "execution_count": null
  },
  {
   "metadata": {},
   "cell_type": "code",
   "source": [
    "'''Train and Obtain Results'''\n",
    "y_true = df['sus']\n",
    "y_pred = df['is_anomaly']\n",
    "\n",
    "accuracy = accuracy_score(y_true, y_pred)\n",
    "f1 = f1_score(y_true, y_pred)\n",
    "\n",
    "# Print results\n",
    "print(f\"Accuracy: {accuracy:.2f}\")\n",
    "print(f\"F1 Score: {f1:.2f}\")\n",
    "\n",
    "cm = confusion_matrix(y_true, y_pred)\n",
    "print(\"Confusion Matrix:\\n\", cm)\n",
    "\n",
    "report = classification_report(y_true, y_pred, target_names=[\"Normal\", \"Anomaly\"])\n",
    "print(report)"
   ],
   "id": "4dbffc61b5538d28",
   "outputs": [],
   "execution_count": null
  }
 ],
 "metadata": {
  "kernelspec": {
   "display_name": "Python 3",
   "language": "python",
   "name": "python3"
  },
  "language_info": {
   "codemirror_mode": {
    "name": "ipython",
    "version": 2
   },
   "file_extension": ".py",
   "mimetype": "text/x-python",
   "name": "python",
   "nbconvert_exporter": "python",
   "pygments_lexer": "ipython2",
   "version": "2.7.6"
  }
 },
 "nbformat": 4,
 "nbformat_minor": 5
}
