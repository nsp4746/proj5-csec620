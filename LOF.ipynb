{
 "cells": [
  {
   "cell_type": "code",
   "id": "initial_id",
   "metadata": {
    "collapsed": true
   },
   "source": [
    "import pandas as pd\n",
    "from sklearn.neighbors import LocalOutlierFactor\n",
    "from sklearn.preprocessing import StandardScaler\n",
    "from sklearn.metrics import classification_report, confusion_matrix"
   ],
   "outputs": [],
   "execution_count": null
  },
  {
   "metadata": {},
   "cell_type": "code",
   "source": [
    "df = pd.read_csv('datasets/labelled_training_data.csv')\n",
    "\n",
    "df['stackAddresses_length'] = df['stackAddresses'].apply(lambda x: len(eval(x)) if pd.notnull(x) else 0)\n",
    "df['args_length'] = df['args'].apply(lambda x: len(eval(x)) if pd.notnull(x) else 0)\n",
    "\n",
    "features = [\n",
    "    'timestamp', 'processId', 'threadId', 'parentProcessId',\n",
    "    'userId', 'mountNamespace', 'returnValue', 'stackAddresses_length', 'args_length'\n",
    "]\n",
    "X = df[features]\n",
    "\n",
    "scaler = StandardScaler()\n",
    "X_scaled = scaler.fit_transform(X)"
   ],
   "id": "ed95a84a8caac641",
   "outputs": [],
   "execution_count": null
  },
  {
   "metadata": {},
   "cell_type": "code",
   "source": [
    "lof = LocalOutlierFactor(n_neighbors=20, contamination=0.1)  # Adjust contamination as needed\n",
    "\n",
    "y_pred = lof.fit_predict(X_scaled)\n",
    "\n",
    "df['is_anomaly'] = (y_pred == -1).astype(int)  # Convert to 1 (anomaly) and 0 (normal)\n",
    "\n",
    "y_true = df['sus']\n",
    "\n",
    "report = classification_report(y_true, df['is_anomaly'], target_names=[\"Normal\", \"Anomaly\"])\n",
    "print(report)\n",
    "\n",
    "print(\"Confusion Matrix:\\n\", confusion_matrix(y_true, df['is_anomaly']))"
   ],
   "id": "1d72cb92f97dcfa8",
   "outputs": [],
   "execution_count": null
  }
 ],
 "metadata": {
  "kernelspec": {
   "display_name": "Python 3",
   "language": "python",
   "name": "python3"
  },
  "language_info": {
   "codemirror_mode": {
    "name": "ipython",
    "version": 2
   },
   "file_extension": ".py",
   "mimetype": "text/x-python",
   "name": "python",
   "nbconvert_exporter": "python",
   "pygments_lexer": "ipython2",
   "version": "2.7.6"
  }
 },
 "nbformat": 4,
 "nbformat_minor": 5
}
